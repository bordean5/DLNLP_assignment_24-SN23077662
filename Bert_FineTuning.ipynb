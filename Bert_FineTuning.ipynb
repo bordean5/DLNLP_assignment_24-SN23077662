{
 "cells": [
  {
   "cell_type": "code",
   "execution_count": 1,
   "id": "9c904786",
   "metadata": {
    "_cell_guid": "b1076dfc-b9ad-4769-8c92-a6c4dae69d19",
    "_uuid": "8f2839f25d086af736a60e9eeb907d3b93b6e0e5",
    "execution": {
     "iopub.execute_input": "2024-05-14T13:26:06.837239Z",
     "iopub.status.busy": "2024-05-14T13:26:06.832831Z",
     "iopub.status.idle": "2024-05-14T13:26:06.842774Z",
     "shell.execute_reply": "2024-05-14T13:26:06.843254Z",
     "shell.execute_reply.started": "2024-05-11T12:30:54.928263Z"
    },
    "papermill": {
     "duration": 0.041082,
     "end_time": "2024-05-14T13:26:06.843520",
     "exception": false,
     "start_time": "2024-05-14T13:26:06.802438",
     "status": "completed"
    },
    "tags": []
   },
   "outputs": [
    {
     "name": "stdout",
     "output_type": "stream",
     "text": [
      "/kaggle/input/sentiment-analysis-on-movie-reviews/sampleSubmission.csv\n",
      "/kaggle/input/sentiment-analysis-on-movie-reviews/train.tsv.zip\n",
      "/kaggle/input/sentiment-analysis-on-movie-reviews/test.tsv.zip\n",
      "./__notebook__.ipynb\n"
     ]
    }
   ],
   "source": [
    "# This Python 3 environment comes with many helpful analytics libraries installed\n",
    "# It is defined by the kaggle/python Docker image: https://github.com/kaggle/docker-python\n",
    "# For example, here's several helpful packages to load\n",
    "\n",
    "import numpy as np # linear algebra\n",
    "import pandas as pd # data processing, CSV file I/O (e.g. pd.read_csv)\n",
    "\n",
    "# Input data files are available in the read-only \"../input/\" directory\n",
    "# For example, running this (by clicking run or pressing Shift+Enter) will list all files under the input directory\n",
    "\n",
    "import os\n",
    "for dirname, _, filenames in os.walk('/kaggle/input'):\n",
    "    for filename in filenames:\n",
    "        print(os.path.join(dirname, filename))\n",
    "        \n",
    "for dirname, _, filenames in os.walk('./'):\n",
    "    for filename in filenames:\n",
    "        print(os.path.join(dirname, filename))\n",
    "\n",
    "# You can write up to 20GB to the current directory (/kaggle/working/) that gets preserved as output when you create a version using \"Save & Run All\" \n",
    "# You can also write temporary files to /kaggle/temp/, but they won't be saved outside of the current session"
   ]
  },
  {
   "cell_type": "code",
   "execution_count": 2,
   "id": "6df290be",
   "metadata": {
    "execution": {
     "iopub.execute_input": "2024-05-14T13:26:06.894596Z",
     "iopub.status.busy": "2024-05-14T13:26:06.893969Z",
     "iopub.status.idle": "2024-05-14T13:26:12.679197Z",
     "shell.execute_reply": "2024-05-14T13:26:12.679746Z",
     "shell.execute_reply.started": "2024-05-11T12:30:54.941161Z"
    },
    "papermill": {
     "duration": 5.813263,
     "end_time": "2024-05-14T13:26:12.679926",
     "exception": false,
     "start_time": "2024-05-14T13:26:06.866663",
     "status": "completed"
    },
    "tags": []
   },
   "outputs": [],
   "source": [
    "from sklearn.model_selection import train_test_split\n",
    "from tensorflow.keras import models, layers\n",
    "from tensorflow.keras.preprocessing.image import ImageDataGenerator\n",
    "from keras.callbacks import ModelCheckpoint, EarlyStopping, ReduceLROnPlateau\n",
    "from tensorflow.keras.applications import ResNet50, DenseNet121, EfficientNetB0\n",
    "from tensorflow.keras.optimizers import Adam\n",
    "from keras.layers import Dense, Flatten, Conv2D, MaxPool2D\n",
    "\n",
    "from sklearn.metrics import f1_score, precision_score, recall_score, confusion_matrix\n",
    "from sklearn.metrics import classification_report,accuracy_score"
   ]
  },
  {
   "cell_type": "code",
   "execution_count": 3,
   "id": "2cd3798e",
   "metadata": {
    "execution": {
     "iopub.execute_input": "2024-05-14T13:26:12.728907Z",
     "iopub.status.busy": "2024-05-14T13:26:12.728215Z",
     "iopub.status.idle": "2024-05-14T13:26:12.849710Z",
     "shell.execute_reply": "2024-05-14T13:26:12.849098Z",
     "shell.execute_reply.started": "2024-05-11T12:30:54.954500Z"
    },
    "papermill": {
     "duration": 0.147442,
     "end_time": "2024-05-14T13:26:12.849849",
     "exception": false,
     "start_time": "2024-05-14T13:26:12.702407",
     "status": "completed"
    },
    "tags": []
   },
   "outputs": [],
   "source": [
    "import tensorflow as tf\n",
    "import seaborn as sns\n",
    "import matplotlib.pyplot as plt"
   ]
  },
  {
   "cell_type": "markdown",
   "id": "091e7081",
   "metadata": {
    "papermill": {
     "duration": 0.02172,
     "end_time": "2024-05-14T13:26:12.893849",
     "exception": false,
     "start_time": "2024-05-14T13:26:12.872129",
     "status": "completed"
    },
    "tags": []
   },
   "source": [
    "## Loading datasets"
   ]
  },
  {
   "cell_type": "code",
   "execution_count": 4,
   "id": "a0ec89c6",
   "metadata": {
    "execution": {
     "iopub.execute_input": "2024-05-14T13:26:12.942487Z",
     "iopub.status.busy": "2024-05-14T13:26:12.941809Z",
     "iopub.status.idle": "2024-05-14T13:26:13.297803Z",
     "shell.execute_reply": "2024-05-14T13:26:13.297164Z",
     "shell.execute_reply.started": "2024-05-11T12:30:54.965647Z"
    },
    "papermill": {
     "duration": 0.382313,
     "end_time": "2024-05-14T13:26:13.297937",
     "exception": false,
     "start_time": "2024-05-14T13:26:12.915624",
     "status": "completed"
    },
    "tags": []
   },
   "outputs": [
    {
     "data": {
      "text/html": [
       "<div>\n",
       "<style scoped>\n",
       "    .dataframe tbody tr th:only-of-type {\n",
       "        vertical-align: middle;\n",
       "    }\n",
       "\n",
       "    .dataframe tbody tr th {\n",
       "        vertical-align: top;\n",
       "    }\n",
       "\n",
       "    .dataframe thead th {\n",
       "        text-align: right;\n",
       "    }\n",
       "</style>\n",
       "<table border=\"1\" class=\"dataframe\">\n",
       "  <thead>\n",
       "    <tr style=\"text-align: right;\">\n",
       "      <th></th>\n",
       "      <th>PhraseId</th>\n",
       "      <th>SentenceId</th>\n",
       "      <th>Phrase</th>\n",
       "      <th>Sentiment</th>\n",
       "    </tr>\n",
       "  </thead>\n",
       "  <tbody>\n",
       "    <tr>\n",
       "      <th>0</th>\n",
       "      <td>1</td>\n",
       "      <td>1</td>\n",
       "      <td>A series of escapades demonstrating the adage ...</td>\n",
       "      <td>1</td>\n",
       "    </tr>\n",
       "    <tr>\n",
       "      <th>1</th>\n",
       "      <td>2</td>\n",
       "      <td>1</td>\n",
       "      <td>A series of escapades demonstrating the adage ...</td>\n",
       "      <td>2</td>\n",
       "    </tr>\n",
       "    <tr>\n",
       "      <th>2</th>\n",
       "      <td>3</td>\n",
       "      <td>1</td>\n",
       "      <td>A series</td>\n",
       "      <td>2</td>\n",
       "    </tr>\n",
       "    <tr>\n",
       "      <th>3</th>\n",
       "      <td>4</td>\n",
       "      <td>1</td>\n",
       "      <td>A</td>\n",
       "      <td>2</td>\n",
       "    </tr>\n",
       "    <tr>\n",
       "      <th>4</th>\n",
       "      <td>5</td>\n",
       "      <td>1</td>\n",
       "      <td>series</td>\n",
       "      <td>2</td>\n",
       "    </tr>\n",
       "  </tbody>\n",
       "</table>\n",
       "</div>"
      ],
      "text/plain": [
       "   PhraseId  SentenceId                                             Phrase  \\\n",
       "0         1           1  A series of escapades demonstrating the adage ...   \n",
       "1         2           1  A series of escapades demonstrating the adage ...   \n",
       "2         3           1                                           A series   \n",
       "3         4           1                                                  A   \n",
       "4         5           1                                             series   \n",
       "\n",
       "   Sentiment  \n",
       "0          1  \n",
       "1          2  \n",
       "2          2  \n",
       "3          2  \n",
       "4          2  "
      ]
     },
     "execution_count": 4,
     "metadata": {},
     "output_type": "execute_result"
    }
   ],
   "source": [
    "train_data = pd.read_csv('/kaggle/input/sentiment-analysis-on-movie-reviews/train.tsv.zip', sep='\\t')\n",
    "test_data = pd.read_csv('/kaggle/input/sentiment-analysis-on-movie-reviews/test.tsv.zip', sep='\\t')\n",
    "\n",
    "train_data.head()"
   ]
  },
  {
   "cell_type": "code",
   "execution_count": 5,
   "id": "06a07b85",
   "metadata": {
    "execution": {
     "iopub.execute_input": "2024-05-14T13:26:13.348902Z",
     "iopub.status.busy": "2024-05-14T13:26:13.348275Z",
     "iopub.status.idle": "2024-05-14T13:26:13.351238Z",
     "shell.execute_reply": "2024-05-14T13:26:13.351694Z",
     "shell.execute_reply.started": "2024-05-11T12:30:55.330435Z"
    },
    "papermill": {
     "duration": 0.030998,
     "end_time": "2024-05-14T13:26:13.351837",
     "exception": false,
     "start_time": "2024-05-14T13:26:13.320839",
     "status": "completed"
    },
    "tags": []
   },
   "outputs": [
    {
     "name": "stdout",
     "output_type": "stream",
     "text": [
      "(156060, 4) (66292, 3)\n"
     ]
    }
   ],
   "source": [
    "print(train_data.shape,test_data.shape)\n"
   ]
  },
  {
   "cell_type": "code",
   "execution_count": 6,
   "id": "da93bb03",
   "metadata": {
    "execution": {
     "iopub.execute_input": "2024-05-14T13:26:13.404267Z",
     "iopub.status.busy": "2024-05-14T13:26:13.403695Z",
     "iopub.status.idle": "2024-05-14T13:26:13.406407Z",
     "shell.execute_reply": "2024-05-14T13:26:13.406855Z",
     "shell.execute_reply.started": "2024-05-11T12:30:55.336121Z"
    },
    "papermill": {
     "duration": 0.03219,
     "end_time": "2024-05-14T13:26:13.406991",
     "exception": false,
     "start_time": "2024-05-14T13:26:13.374801",
     "status": "completed"
    },
    "tags": []
   },
   "outputs": [
    {
     "name": "stdout",
     "output_type": "stream",
     "text": [
      "A series of escapades demonstrating the adage that what is good for the goose\n"
     ]
    }
   ],
   "source": [
    "print(train_data.iloc[1][\"Phrase\"])"
   ]
  },
  {
   "cell_type": "code",
   "execution_count": 7,
   "id": "6e96cd8a",
   "metadata": {
    "execution": {
     "iopub.execute_input": "2024-05-14T13:26:13.514235Z",
     "iopub.status.busy": "2024-05-14T13:26:13.513444Z",
     "iopub.status.idle": "2024-05-14T13:26:13.550586Z",
     "shell.execute_reply": "2024-05-14T13:26:13.550048Z",
     "shell.execute_reply.started": "2024-05-11T12:31:25.160537Z"
    },
    "papermill": {
     "duration": 0.120753,
     "end_time": "2024-05-14T13:26:13.550710",
     "exception": false,
     "start_time": "2024-05-14T13:26:13.429957",
     "status": "completed"
    },
    "tags": []
   },
   "outputs": [
    {
     "name": "stdout",
     "output_type": "stream",
     "text": [
      "The baseline accuracy: 0.510\n"
     ]
    }
   ],
   "source": [
    "y_pred = [2] * len(train_data.Sentiment)\n",
    "print('The baseline accuracy: %.3f' \n",
    "      %accuracy_score(y_pred, train_data.Sentiment))"
   ]
  },
  {
   "cell_type": "code",
   "execution_count": 8,
   "id": "b9695a92",
   "metadata": {
    "execution": {
     "iopub.execute_input": "2024-05-14T13:26:13.606612Z",
     "iopub.status.busy": "2024-05-14T13:26:13.605844Z",
     "iopub.status.idle": "2024-05-14T13:26:13.608731Z",
     "shell.execute_reply": "2024-05-14T13:26:13.609201Z",
     "shell.execute_reply.started": "2024-05-11T12:31:25.260042Z"
    },
    "papermill": {
     "duration": 0.035063,
     "end_time": "2024-05-14T13:26:13.609352",
     "exception": false,
     "start_time": "2024-05-14T13:26:13.574289",
     "status": "completed"
    },
    "tags": []
   },
   "outputs": [
    {
     "data": {
      "text/html": [
       "<div>\n",
       "<style scoped>\n",
       "    .dataframe tbody tr th:only-of-type {\n",
       "        vertical-align: middle;\n",
       "    }\n",
       "\n",
       "    .dataframe tbody tr th {\n",
       "        vertical-align: top;\n",
       "    }\n",
       "\n",
       "    .dataframe thead th {\n",
       "        text-align: right;\n",
       "    }\n",
       "</style>\n",
       "<table border=\"1\" class=\"dataframe\">\n",
       "  <thead>\n",
       "    <tr style=\"text-align: right;\">\n",
       "      <th></th>\n",
       "      <th>PhraseId</th>\n",
       "      <th>SentenceId</th>\n",
       "      <th>Phrase</th>\n",
       "    </tr>\n",
       "  </thead>\n",
       "  <tbody>\n",
       "    <tr>\n",
       "      <th>0</th>\n",
       "      <td>156061</td>\n",
       "      <td>8545</td>\n",
       "      <td>An intermittently pleasing but mostly routine ...</td>\n",
       "    </tr>\n",
       "    <tr>\n",
       "      <th>1</th>\n",
       "      <td>156062</td>\n",
       "      <td>8545</td>\n",
       "      <td>An intermittently pleasing but mostly routine ...</td>\n",
       "    </tr>\n",
       "    <tr>\n",
       "      <th>2</th>\n",
       "      <td>156063</td>\n",
       "      <td>8545</td>\n",
       "      <td>An</td>\n",
       "    </tr>\n",
       "    <tr>\n",
       "      <th>3</th>\n",
       "      <td>156064</td>\n",
       "      <td>8545</td>\n",
       "      <td>intermittently pleasing but mostly routine effort</td>\n",
       "    </tr>\n",
       "    <tr>\n",
       "      <th>4</th>\n",
       "      <td>156065</td>\n",
       "      <td>8545</td>\n",
       "      <td>intermittently pleasing but mostly routine</td>\n",
       "    </tr>\n",
       "  </tbody>\n",
       "</table>\n",
       "</div>"
      ],
      "text/plain": [
       "   PhraseId  SentenceId                                             Phrase\n",
       "0    156061        8545  An intermittently pleasing but mostly routine ...\n",
       "1    156062        8545  An intermittently pleasing but mostly routine ...\n",
       "2    156063        8545                                                 An\n",
       "3    156064        8545  intermittently pleasing but mostly routine effort\n",
       "4    156065        8545         intermittently pleasing but mostly routine"
      ]
     },
     "execution_count": 8,
     "metadata": {},
     "output_type": "execute_result"
    }
   ],
   "source": [
    "test_data.head()"
   ]
  },
  {
   "cell_type": "markdown",
   "id": "dfc9a0e7",
   "metadata": {
    "papermill": {
     "duration": 0.023556,
     "end_time": "2024-05-14T13:26:13.656927",
     "exception": false,
     "start_time": "2024-05-14T13:26:13.633371",
     "status": "completed"
    },
    "tags": []
   },
   "source": [
    "## Preprocessing Phrase\n",
    "\n",
    "TODO:\n",
    "- Tokenize\n",
    "- Lemmatize\n",
    "- Remove non alphabet character"
   ]
  },
  {
   "cell_type": "code",
   "execution_count": 9,
   "id": "874c358d",
   "metadata": {
    "execution": {
     "iopub.execute_input": "2024-05-14T13:26:13.710211Z",
     "iopub.status.busy": "2024-05-14T13:26:13.709477Z",
     "iopub.status.idle": "2024-05-14T13:26:20.109839Z",
     "shell.execute_reply": "2024-05-14T13:26:20.109255Z",
     "shell.execute_reply.started": "2024-05-11T12:31:25.270365Z"
    },
    "papermill": {
     "duration": 6.429209,
     "end_time": "2024-05-14T13:26:20.109973",
     "exception": false,
     "start_time": "2024-05-14T13:26:13.680764",
     "status": "completed"
    },
    "tags": []
   },
   "outputs": [],
   "source": [
    "import spacy #lemmas and remove non-character\n",
    "nlp = spacy.load('en_core_web_sm')\n",
    "\n",
    "def preprocess_phrase(document):\n",
    "    preprocessed_texts = []\n",
    "    \n",
    "    for text in document['Phrase'].values:\n",
    "        text = str(text)\n",
    "        result = [token.lemma_ for token in nlp(text) if token.is_alpha]\n",
    "        preprocessed_texts.append(\" \".join(result))\n",
    "        \n",
    "    return preprocessed_texts"
   ]
  },
  {
   "cell_type": "code",
   "execution_count": 10,
   "id": "e9a8fcc0",
   "metadata": {
    "execution": {
     "iopub.execute_input": "2024-05-14T13:26:20.165602Z",
     "iopub.status.busy": "2024-05-14T13:26:20.164998Z",
     "iopub.status.idle": "2024-05-14T13:39:09.147785Z",
     "shell.execute_reply": "2024-05-14T13:39:09.148350Z",
     "shell.execute_reply.started": "2024-05-11T12:31:26.294071Z"
    },
    "papermill": {
     "duration": 769.013728,
     "end_time": "2024-05-14T13:39:09.148540",
     "exception": false,
     "start_time": "2024-05-14T13:26:20.134812",
     "status": "completed"
    },
    "tags": []
   },
   "outputs": [
    {
     "name": "stdout",
     "output_type": "stream",
     "text": [
      "156060\n"
     ]
    }
   ],
   "source": [
    "train_sent = preprocess_phrase(train_data)\n",
    "#test_sent = preprocess_phrase(test_data)\n",
    "\n",
    "#print(len(train_sent), len(test_sent))\n",
    "\n",
    "print(len(train_sent))"
   ]
  },
  {
   "cell_type": "markdown",
   "id": "913dae4f",
   "metadata": {
    "papermill": {
     "duration": 0.024513,
     "end_time": "2024-05-14T13:39:09.198902",
     "exception": false,
     "start_time": "2024-05-14T13:39:09.174389",
     "status": "completed"
    },
    "tags": []
   },
   "source": [
    "## Generate train and validation test"
   ]
  },
  {
   "cell_type": "code",
   "execution_count": 11,
   "id": "c8806371",
   "metadata": {
    "execution": {
     "iopub.execute_input": "2024-05-14T13:39:09.258217Z",
     "iopub.status.busy": "2024-05-14T13:39:09.257039Z",
     "iopub.status.idle": "2024-05-14T13:39:09.584733Z",
     "shell.execute_reply": "2024-05-14T13:39:09.585228Z",
     "shell.execute_reply.started": "2024-05-11T12:44:46.508604Z"
    },
    "papermill": {
     "duration": 0.361325,
     "end_time": "2024-05-14T13:39:09.585420",
     "exception": false,
     "start_time": "2024-05-14T13:39:09.224095",
     "status": "completed"
    },
    "tags": []
   },
   "outputs": [
    {
     "name": "stdout",
     "output_type": "stream",
     "text": [
      "119385 21069 15606 119385 21069 15606\n"
     ]
    }
   ],
   "source": [
    "target =train_data['Sentiment'].values\n",
    "\n",
    "X_train_valid, X_test, y_train_valid, y_test = train_test_split(\n",
    "    train_sent,\n",
    "    target,\n",
    "    train_size=0.9,\n",
    "    stratify=target,\n",
    "    shuffle = True,\n",
    "    random_state = 42\n",
    ")\n",
    "\n",
    "X_train, X_val, y_train, y_val = train_test_split(\n",
    "    X_train_valid,\n",
    "    y_train_valid,\n",
    "    train_size=0.85,\n",
    "    stratify=y_train_valid,\n",
    "    shuffle = True,\n",
    "    random_state = 42\n",
    ")\n",
    "print(len(X_train), len(X_val),len(X_test), len(y_train), len(y_val),len(y_test))"
   ]
  },
  {
   "cell_type": "markdown",
   "id": "84261f92",
   "metadata": {
    "papermill": {
     "duration": 0.025019,
     "end_time": "2024-05-14T13:39:09.635607",
     "exception": false,
     "start_time": "2024-05-14T13:39:09.610588",
     "status": "completed"
    },
    "tags": []
   },
   "source": [
    "## Model Creation"
   ]
  },
  {
   "cell_type": "code",
   "execution_count": 12,
   "id": "79955af8",
   "metadata": {
    "execution": {
     "iopub.execute_input": "2024-05-14T13:39:09.691814Z",
     "iopub.status.busy": "2024-05-14T13:39:09.691171Z",
     "iopub.status.idle": "2024-05-14T13:39:10.047689Z",
     "shell.execute_reply": "2024-05-14T13:39:10.047073Z",
     "shell.execute_reply.started": "2024-05-11T12:44:46.836418Z"
    },
    "papermill": {
     "duration": 0.386835,
     "end_time": "2024-05-14T13:39:10.047840",
     "exception": false,
     "start_time": "2024-05-14T13:39:09.661005",
     "status": "completed"
    },
    "tags": []
   },
   "outputs": [],
   "source": [
    "from sklearn.feature_extraction.text import TfidfVectorizer\n",
    "from sklearn.naive_bayes import MultinomialNB\n",
    "from sklearn.pipeline import Pipeline\n",
    "from sklearn.metrics import classification_report, accuracy_score, confusion_matrix, ConfusionMatrixDisplay\n",
    "from transformers import BertTokenizer, TFBertForSequenceClassification\n",
    "from tensorflow.keras.layers import Input, Dense, Dropout\n",
    "from tensorflow.keras.models import Model\n",
    "from transformers import TFAutoModel"
   ]
  },
  {
   "cell_type": "code",
   "execution_count": 13,
   "id": "f1e85424",
   "metadata": {
    "execution": {
     "iopub.execute_input": "2024-05-14T13:39:10.175165Z",
     "iopub.status.busy": "2024-05-14T13:39:10.138960Z",
     "iopub.status.idle": "2024-05-14T13:39:10.292706Z",
     "shell.execute_reply": "2024-05-14T13:39:10.292117Z",
     "shell.execute_reply.started": "2024-05-11T12:44:46.844714Z"
    },
    "papermill": {
     "duration": 0.219265,
     "end_time": "2024-05-14T13:39:10.292844",
     "exception": false,
     "start_time": "2024-05-14T13:39:10.073579",
     "status": "completed"
    },
    "tags": []
   },
   "outputs": [
    {
     "name": "stdout",
     "output_type": "stream",
     "text": [
      "14243 47\n"
     ]
    }
   ],
   "source": [
    "unique_words = set()\n",
    "len_max = 0\n",
    "\n",
    "for sent in X_train:\n",
    "    tokens = sent.split()\n",
    "    unique_words.update(tokens)\n",
    "    \n",
    "    if len_max < len(tokens):\n",
    "        len_max = len(tokens)\n",
    "\n",
    "print(len(unique_words), len_max)"
   ]
  },
  {
   "cell_type": "code",
   "execution_count": 14,
   "id": "3ac4f52b",
   "metadata": {
    "execution": {
     "iopub.execute_input": "2024-05-14T13:39:10.352824Z",
     "iopub.status.busy": "2024-05-14T13:39:10.352156Z",
     "iopub.status.idle": "2024-05-14T13:39:40.004565Z",
     "shell.execute_reply": "2024-05-14T13:39:40.003593Z",
     "shell.execute_reply.started": "2024-05-11T13:18:18.580080Z"
    },
    "papermill": {
     "duration": 29.686462,
     "end_time": "2024-05-14T13:39:40.004722",
     "exception": false,
     "start_time": "2024-05-14T13:39:10.318260",
     "status": "completed"
    },
    "tags": []
   },
   "outputs": [
    {
     "data": {
      "application/vnd.jupyter.widget-view+json": {
       "model_id": "a59fa0e2e3ad4e36b40488cc4fb870d3",
       "version_major": 2,
       "version_minor": 0
      },
      "text/plain": [
       "Downloading:   0%|          | 0.00/570 [00:00<?, ?B/s]"
      ]
     },
     "metadata": {},
     "output_type": "display_data"
    },
    {
     "data": {
      "application/vnd.jupyter.widget-view+json": {
       "model_id": "016aa5249d9a49fe9d942eb02b85def9",
       "version_major": 2,
       "version_minor": 0
      },
      "text/plain": [
       "Downloading:   0%|          | 0.00/511M [00:00<?, ?B/s]"
      ]
     },
     "metadata": {},
     "output_type": "display_data"
    },
    {
     "name": "stderr",
     "output_type": "stream",
     "text": [
      "Some layers from the model checkpoint at bert-base-uncased were not used when initializing TFBertModel: ['nsp___cls', 'mlm___cls']\n",
      "- This IS expected if you are initializing TFBertModel from the checkpoint of a model trained on another task or with another architecture (e.g. initializing a BertForSequenceClassification model from a BertForPreTraining model).\n",
      "- This IS NOT expected if you are initializing TFBertModel from the checkpoint of a model that you expect to be exactly identical (initializing a BertForSequenceClassification model from a BertForSequenceClassification model).\n",
      "All the layers of TFBertModel were initialized from the model checkpoint at bert-base-uncased.\n",
      "If your task is similar to the task the model of the checkpoint was trained on, you can already use TFBertModel for predictions without further training.\n"
     ]
    },
    {
     "name": "stdout",
     "output_type": "stream",
     "text": [
      "Model: \"model\"\n",
      "__________________________________________________________________________________________________\n",
      "Layer (type)                    Output Shape         Param #     Connected to                     \n",
      "==================================================================================================\n",
      "attention_mask (InputLayer)     [(None, 60)]         0                                            \n",
      "__________________________________________________________________________________________________\n",
      "input_ids (InputLayer)          [(None, 60)]         0                                            \n",
      "__________________________________________________________________________________________________\n",
      "bert (TFBertMainLayer)          TFBaseModelOutputWit 109482240   attention_mask[0][0]             \n",
      "                                                                 input_ids[0][0]                  \n",
      "__________________________________________________________________________________________________\n",
      "flatten (Flatten)               (None, 768)          0           bert[0][1]                       \n",
      "__________________________________________________________________________________________________\n",
      "dense (Dense)                   (None, 256)          196864      flatten[0][0]                    \n",
      "__________________________________________________________________________________________________\n",
      "dense_1 (Dense)                 (None, 128)          32896       dense[0][0]                      \n",
      "__________________________________________________________________________________________________\n",
      "outputs (Dense)                 (None, 5)            645         dense_1[0][0]                    \n",
      "==================================================================================================\n",
      "Total params: 109,712,645\n",
      "Trainable params: 109,712,645\n",
      "Non-trainable params: 0\n",
      "__________________________________________________________________________________________________\n"
     ]
    }
   ],
   "source": [
    "# Build model input\n",
    "len_max=60\n",
    "input_ids = Input(shape=(len_max,), name='input_ids', dtype='int32')\n",
    "attention_mask = Input(shape=(len_max,), name='attention_mask', dtype='int32') \n",
    "inputs = {'input_ids': input_ids, 'attention_mask': attention_mask}\n",
    "\n",
    "bert = TFAutoModel.from_pretrained('bert-base-uncased')\n",
    "embeddings = bert.bert(inputs)[1]\n",
    "\n",
    "# convert bert embeddings into 5 output classes\n",
    "output = Flatten()(embeddings)\n",
    "output = Dense(256, activation='relu')(output)\n",
    "#output= tf.keras.layers.Dropout(0.2)(output)\n",
    "output = Dense(128, activation='relu')(output)\n",
    "#output= tf.keras.layers.Dropout(0.2)(output)\n",
    "output = Dense(5, activation='softmax', name='outputs')(output)\n",
    "\n",
    "model = Model(inputs=inputs, outputs=output)\n",
    "\n",
    "# Take a look at the model\n",
    "model.summary()"
   ]
  },
  {
   "cell_type": "code",
   "execution_count": 15,
   "id": "ce4f7a20",
   "metadata": {
    "execution": {
     "iopub.execute_input": "2024-05-14T13:39:40.072642Z",
     "iopub.status.busy": "2024-05-14T13:39:40.071985Z",
     "iopub.status.idle": "2024-05-14T13:39:40.078284Z",
     "shell.execute_reply": "2024-05-14T13:39:40.078864Z",
     "shell.execute_reply.started": "2024-05-11T13:18:54.612720Z"
    },
    "papermill": {
     "duration": 0.046346,
     "end_time": "2024-05-14T13:39:40.079019",
     "exception": false,
     "start_time": "2024-05-14T13:39:40.032673",
     "status": "completed"
    },
    "tags": []
   },
   "outputs": [],
   "source": [
    "model.compile(\n",
    "    loss='categorical_crossentropy',\n",
    "    optimizer=tf.keras.optimizers.Adam(learning_rate=1e-05),\n",
    "    metrics=['accuracy']\n",
    ")"
   ]
  },
  {
   "cell_type": "code",
   "execution_count": 16,
   "id": "037ff1a1",
   "metadata": {
    "execution": {
     "iopub.execute_input": "2024-05-14T13:39:40.144984Z",
     "iopub.status.busy": "2024-05-14T13:39:40.141979Z",
     "iopub.status.idle": "2024-05-14T13:40:41.685603Z",
     "shell.execute_reply": "2024-05-14T13:40:41.684951Z",
     "shell.execute_reply.started": "2024-05-11T12:45:18.228174Z"
    },
    "papermill": {
     "duration": 61.579644,
     "end_time": "2024-05-14T13:40:41.685759",
     "exception": false,
     "start_time": "2024-05-14T13:39:40.106115",
     "status": "completed"
    },
    "tags": []
   },
   "outputs": [
    {
     "data": {
      "application/vnd.jupyter.widget-view+json": {
       "model_id": "039e12880c9449d4a545b9264149c86c",
       "version_major": 2,
       "version_minor": 0
      },
      "text/plain": [
       "Downloading:   0%|          | 0.00/226k [00:00<?, ?B/s]"
      ]
     },
     "metadata": {},
     "output_type": "display_data"
    },
    {
     "data": {
      "application/vnd.jupyter.widget-view+json": {
       "model_id": "dcae4ff06ff74a1dbe99132e35eb82a5",
       "version_major": 2,
       "version_minor": 0
      },
      "text/plain": [
       "Downloading:   0%|          | 0.00/48.0 [00:00<?, ?B/s]"
      ]
     },
     "metadata": {},
     "output_type": "display_data"
    },
    {
     "data": {
      "application/vnd.jupyter.widget-view+json": {
       "model_id": "bd121be297de4fee87d5c173d9c23b2c",
       "version_major": 2,
       "version_minor": 0
      },
      "text/plain": [
       "Downloading:   0%|          | 0.00/455k [00:00<?, ?B/s]"
      ]
     },
     "metadata": {},
     "output_type": "display_data"
    }
   ],
   "source": [
    "# Encode the texts\n",
    "\n",
    "def encode_texts(text_list, tokenizer, max_length=len_max):\n",
    "    return tokenizer(text_list, \n",
    "                     add_special_tokens=True,  \n",
    "                     max_length=len_max,    \n",
    "                     truncation=True,         \n",
    "                     padding='max_length',    \n",
    "                     return_tensors='tf') \n",
    "\n",
    "tokenizer = BertTokenizer.from_pretrained('bert-base-uncased')\n",
    "\n",
    "train_encodings = encode_texts(X_train, tokenizer)\n",
    "val_encodings = encode_texts(X_val, tokenizer)\n",
    "test_encodings = encode_texts(X_test, tokenizer)\n",
    "\n",
    "train_target=tf.keras.utils.to_categorical(y_train, num_classes=5)\n",
    "valid_target=tf.keras.utils.to_categorical(y_val, num_classes=5)\n",
    "\n",
    "train_dataset = tf.data.Dataset.from_tensor_slices(({'input_ids': train_encodings['input_ids'], 'attention_mask': train_encodings['attention_mask']}, train_target)).batch(32)\n",
    "val_dataset = tf.data.Dataset.from_tensor_slices(({'input_ids': val_encodings['input_ids'], 'attention_mask': val_encodings['attention_mask']}, valid_target)).batch(32)\n",
    "#test_dataset = tf.data.Dataset.from_tensor_slices(({'input_ids': test_encodings['input_ids'], 'attention_mask': test_encodings['attention_mask']}, test_labels))\n"
   ]
  },
  {
   "cell_type": "code",
   "execution_count": 17,
   "id": "706311d8",
   "metadata": {
    "execution": {
     "iopub.execute_input": "2024-05-14T13:40:41.750405Z",
     "iopub.status.busy": "2024-05-14T13:40:41.749790Z",
     "iopub.status.idle": "2024-05-14T14:28:41.689702Z",
     "shell.execute_reply": "2024-05-14T14:28:41.690229Z",
     "shell.execute_reply.started": "2024-05-11T13:19:09.336774Z"
    },
    "papermill": {
     "duration": 2879.975283,
     "end_time": "2024-05-14T14:28:41.690425",
     "exception": false,
     "start_time": "2024-05-14T13:40:41.715142",
     "status": "completed"
    },
    "tags": []
   },
   "outputs": [
    {
     "name": "stdout",
     "output_type": "stream",
     "text": [
      "Epoch 1/3\n",
      "3731/3731 [==============================] - 957s 252ms/step - loss: 0.8395 - accuracy: 0.6517 - val_loss: 0.7366 - val_accuracy: 0.6950\n",
      "Epoch 2/3\n",
      "3731/3731 [==============================] - 939s 252ms/step - loss: 0.6989 - accuracy: 0.7087 - val_loss: 0.7213 - val_accuracy: 0.7000\n",
      "Epoch 3/3\n",
      "3731/3731 [==============================] - 940s 252ms/step - loss: 0.6304 - accuracy: 0.7383 - val_loss: 0.7397 - val_accuracy: 0.6983\n"
     ]
    }
   ],
   "source": [
    "history = model.fit(train_dataset, validation_data=val_dataset, epochs=3)\n"
   ]
  },
  {
   "cell_type": "code",
   "execution_count": 18,
   "id": "cb8a9826",
   "metadata": {
    "execution": {
     "iopub.execute_input": "2024-05-14T14:28:49.116850Z",
     "iopub.status.busy": "2024-05-14T14:28:49.115944Z",
     "iopub.status.idle": "2024-05-14T14:28:51.615352Z",
     "shell.execute_reply": "2024-05-14T14:28:51.614624Z",
     "shell.execute_reply.started": "2024-05-11T14:06:51.114088Z"
    },
    "papermill": {
     "duration": 6.140927,
     "end_time": "2024-05-14T14:28:51.615495",
     "exception": false,
     "start_time": "2024-05-14T14:28:45.474568",
     "status": "completed"
    },
    "tags": []
   },
   "outputs": [],
   "source": [
    "model.save('./Bert.h5')"
   ]
  },
  {
   "cell_type": "code",
   "execution_count": 19,
   "id": "8d078527",
   "metadata": {
    "execution": {
     "iopub.execute_input": "2024-05-14T14:28:59.047882Z",
     "iopub.status.busy": "2024-05-14T14:28:59.043220Z",
     "iopub.status.idle": "2024-05-14T14:28:59.782005Z",
     "shell.execute_reply": "2024-05-14T14:28:59.781314Z",
     "shell.execute_reply.started": "2024-05-14T13:24:06.926856Z"
    },
    "papermill": {
     "duration": 4.38623,
     "end_time": "2024-05-14T14:28:59.782138",
     "exception": false,
     "start_time": "2024-05-14T14:28:55.395908",
     "status": "completed"
    },
    "tags": []
   },
   "outputs": [],
   "source": [
    "model.save_weights('Bert_weights.h5')"
   ]
  },
  {
   "cell_type": "markdown",
   "id": "817050b4",
   "metadata": {
    "papermill": {
     "duration": 3.738107,
     "end_time": "2024-05-14T14:29:07.188755",
     "exception": false,
     "start_time": "2024-05-14T14:29:03.450648",
     "status": "completed"
    },
    "tags": []
   },
   "source": [
    "## Fit Model"
   ]
  },
  {
   "cell_type": "code",
   "execution_count": 20,
   "id": "6e0814d8",
   "metadata": {
    "execution": {
     "iopub.execute_input": "2024-05-14T14:29:14.676871Z",
     "iopub.status.busy": "2024-05-14T14:29:14.676128Z",
     "iopub.status.idle": "2024-05-14T14:29:15.083106Z",
     "shell.execute_reply": "2024-05-14T14:29:15.082603Z",
     "shell.execute_reply.started": "2024-05-11T14:07:16.321595Z"
    },
    "papermill": {
     "duration": 4.132487,
     "end_time": "2024-05-14T14:29:15.083243",
     "exception": false,
     "start_time": "2024-05-14T14:29:10.950756",
     "status": "completed"
    },
    "tags": []
   },
   "outputs": [
    {
     "data": {
      "image/png": "[encoded data removed]",
      "text/plain": [
       "<Figure size 1080x360 with 2 Axes>"
      ]
     },
     "metadata": {
      "needs_background": "light"
     },
     "output_type": "display_data"
    }
   ],
   "source": [
    "acc = history.history['accuracy']\n",
    "val_acc = history.history['val_accuracy']\n",
    "loss = history.history['loss']\n",
    "val_loss = history.history['val_loss']\n",
    "\n",
    "epochs = range(1, len(acc) + 1)\n",
    "\n",
    "fig, (ax1, ax2) = plt.subplots(1, 2, figsize=(15, 5))\n",
    "sns.set_style(\"white\")\n",
    "plt.suptitle('Train history', size = 15)\n",
    "\n",
    "ax1.plot(epochs, acc, \"r--\", label = \"Training acc\")\n",
    "ax1.plot(epochs, val_acc, \"b-\", label = \"Validation acc\")\n",
    "ax1.set_title(\"Training and validation acc\")\n",
    "ax1.legend()\n",
    "ax1.grid(True, linestyle='--', linewidth=0.5)\n",
    "\n",
    "ax2.plot(epochs, loss, \"r--\", label = \"Training loss\")\n",
    "ax2.plot(epochs, val_loss, \"b-\", label = \"Validation loss\")\n",
    "ax2.set_title(\"Training and validation loss\")\n",
    "ax2.legend()\n",
    "ax2.grid(True, linestyle='--', linewidth=0.5)\n",
    "\n",
    "plt.show()"
   ]
  },
  {
   "cell_type": "code",
   "execution_count": 21,
   "id": "d4aae8af",
   "metadata": {
    "execution": {
     "iopub.execute_input": "2024-05-14T14:29:22.601144Z",
     "iopub.status.busy": "2024-05-14T14:29:22.600471Z",
     "iopub.status.idle": "2024-05-14T14:30:09.611665Z",
     "shell.execute_reply": "2024-05-14T14:30:09.612241Z",
     "shell.execute_reply.started": "2024-05-11T14:07:24.118059Z"
    },
    "papermill": {
     "duration": 50.73371,
     "end_time": "2024-05-14T14:30:09.612436",
     "exception": false,
     "start_time": "2024-05-14T14:29:18.878726",
     "status": "completed"
    },
    "tags": []
   },
   "outputs": [
    {
     "name": "stdout",
     "output_type": "stream",
     "text": [
      "Accuracy: 0.6952454184288094\n",
      "Recall: 0.6952454184288094\n",
      "Precision: 0.6956536406677652\n",
      "F1 Score: 0.6946314684979579\n",
      "              precision    recall  f1-score   support\n",
      "\n",
      "           0       0.52      0.47      0.49       707\n",
      "           1       0.57      0.64      0.60      2727\n",
      "           2       0.79      0.79      0.79      7958\n",
      "           3       0.63      0.61      0.62      3293\n",
      "           4       0.65      0.52      0.58       921\n",
      "\n",
      "    accuracy                           0.70     15606\n",
      "   macro avg       0.63      0.61      0.62     15606\n",
      "weighted avg       0.70      0.70      0.69     15606\n",
      "\n"
     ]
    }
   ],
   "source": [
    "test_dataset = tf.data.Dataset.from_tensor_slices({'input_ids': test_encodings['input_ids'], 'attention_mask': test_encodings['attention_mask']}).batch(32)\n",
    "\n",
    "\n",
    "y_pred1 = model.predict(test_dataset)\n",
    "\n",
    "y_pred = np.argmax(y_pred1,axis=1)\n",
    "\n",
    "\n",
    "accuracy = accuracy_score(y_test, y_pred)\n",
    "\n",
    "f1 = f1_score(y_test, y_pred, average='weighted')\n",
    "\n",
    "recall = recall_score(y_test, y_pred, average='weighted')\n",
    "\n",
    "precision = precision_score(y_test, y_pred,average=\"weighted\")\n",
    "\n",
    "print(\"Accuracy:\", accuracy)\n",
    "print(\"Recall:\", recall)\n",
    "print(\"Precision:\",precision)\n",
    "print(\"F1 Score:\", f1)\n",
    "print(classification_report(y_test,  y_pred))"
   ]
  },
  {
   "cell_type": "code",
   "execution_count": 22,
   "id": "4ed81c58",
   "metadata": {
    "execution": {
     "iopub.execute_input": "2024-05-14T14:30:16.975059Z",
     "iopub.status.busy": "2024-05-14T14:30:16.974452Z",
     "iopub.status.idle": "2024-05-14T14:30:17.255052Z",
     "shell.execute_reply": "2024-05-14T14:30:17.254448Z",
     "shell.execute_reply.started": "2024-05-14T13:24:33.711004Z"
    },
    "papermill": {
     "duration": 4.005983,
     "end_time": "2024-05-14T14:30:17.255189",
     "exception": false,
     "start_time": "2024-05-14T14:30:13.249206",
     "status": "completed"
    },
    "tags": []
   },
   "outputs": [
    {
     "data": {
      "image/png": "[encoded data removed]",
      "text/plain": [
       "<Figure size 432x288 with 2 Axes>"
      ]
     },
     "metadata": {},
     "output_type": "display_data"
    }
   ],
   "source": [
    "confu_matrix = confusion_matrix(y_test, y_pred)\n",
    "sns.heatmap(confu_matrix, annot=True, fmt='d', cmap='Reds', xticklabels=range(0,5), yticklabels=range(0,5))\n",
    "plt.xlabel('Predicted labels')\n",
    "plt.ylabel('True labels')\n",
    "plt.title('Confusion Matrix')\n",
    "plt.show()"
   ]
  }
 ],
 "metadata": {
  "kaggle": {
   "accelerator": "gpu",
   "dataSources": [
    {
     "databundleVersionId": 32092,
     "sourceId": 3810,
     "sourceType": "competition"
    }
   ],
   "dockerImageVersionId": 30153,
   "isGpuEnabled": true,
   "isInternetEnabled": true,
   "language": "python",
   "sourceType": "notebook"
  },
  "kernelspec": {
   "display_name": "Python 3",
   "language": "python",
   "name": "python3"
  },
  "language_info": {
   "codemirror_mode": {
    "name": "ipython",
    "version": 3
   },
   "file_extension": ".py",
   "mimetype": "text/x-python",
   "name": "python",
   "nbconvert_exporter": "python",
   "pygments_lexer": "ipython3",
   "version": "3.7.12"
  },
  "papermill": {
   "default_parameters": {},
   "duration": 3867.125809,
   "end_time": "2024-05-14T14:30:24.672598",
   "environment_variables": {},
   "exception": null,
   "input_path": "__notebook__.ipynb",
   "output_path": "__notebook__.ipynb",
   "parameters": {},
   "start_time": "2024-05-14T13:25:57.546789",
   "version": "2.3.4"
  },
  "widgets": {
   "application/vnd.jupyter.widget-state+json": {
    "state": {
     "001ad921aa8e4bcfa91120d67c493375": {
      "model_module": "@jupyter-widgets/controls",
      "model_module_version": "1.5.0",
      "model_name": "HTMLModel",
      "state": {
       "_dom_classes": [],
       "_model_module": "@jupyter-widgets/controls",
       "_model_module_version": "1.5.0",
       "_model_name": "HTMLModel",
       "_view_count": null,
       "_view_module": "@jupyter-widgets/controls",
       "_view_module_version": "1.5.0",
       "_view_name": "HTMLView",
       "description": "",
       "description_tooltip": null,
       "layout": "IPY_MODEL_11d083d07a3a4ddc8124d0a5fdda021b",
       "placeholder": "​",
       "style": "IPY_MODEL_c62d2098963d42f5b904df789fa2d85e",
       "value": " 455k/455k [00:00&lt;00:00, 5.68MB/s]"
      }
     },
     "0086cb0951ff423d8d1e04df66d8a45f": {
      "model_module": "@jupyter-widgets/base",
      "model_module_version": "1.2.0",
      "model_name": "LayoutModel",
      "state": {
       "_model_module": "@jupyter-widgets/base",
       "_model_module_version": "1.2.0",
       "_model_name": "LayoutModel",
       "_view_count": null,
       "_view_module": "@jupyter-widgets/base",
       "_view_module_version": "1.2.0",
       "_view_name": "LayoutView",
       "align_content": null,
       "align_items": null,
       "align_self": null,
       "border": null,
       "bottom": null,
       "display": null,
       "flex": null,
       "flex_flow": null,
       "grid_area": null,
       "grid_auto_columns": null,
       "grid_auto_flow": null,
       "grid_auto_rows": null,
       "grid_column": null,
       "grid_gap": null,
       "grid_row": null,
       "grid_template_areas": null,
       "grid_template_columns": null,
       "grid_template_rows": null,
       "height": null,
       "justify_content": null,
       "justify_items": null,
       "left": null,
       "margin": null,
       "max_height": null,
       "max_width": null,
       "min_height": null,
       "min_width": null,
       "object_fit": null,
       "object_position": null,
       "order": null,
       "overflow": null,
       "overflow_x": null,
       "overflow_y": null,
       "padding": null,
       "right": null,
       "top": null,
       "visibility": null,
       "width": null
      }
     },
     "016aa5249d9a49fe9d942eb02b85def9": {
      "model_module": "@jupyter-widgets/controls",
      "model_module_version": "1.5.0",
      "model_name": "HBoxModel",
      "state": {
       "_dom_classes": [],
       "_model_module": "@jupyter-widgets/controls",
       "_model_module_version": "1.5.0",
       "_model_name": "HBoxModel",
       "_view_count": null,
       "_view_module": "@jupyter-widgets/controls",
       "_view_module_version": "1.5.0",
       "_view_name": "HBoxView",
       "box_style": "",
       "children": [
        "IPY_MODEL_250d2b499354444a890d5cf16c2c6313",
        "IPY_MODEL_40cfd631ff4e4de0b67916d629bc754e",
        "IPY_MODEL_b575f9ca65404a26951ef607e86dd3e8"
       ],
       "layout": "IPY_MODEL_0086cb0951ff423d8d1e04df66d8a45f"
      }
     },
     "039e12880c9449d4a545b9264149c86c": {
      "model_module": "@jupyter-widgets/controls",
      "model_module_version": "1.5.0",
      "model_name": "HBoxModel",
      "state": {
       "_dom_classes": [],
       "_model_module": "@jupyter-widgets/controls",
       "_model_module_version": "1.5.0",
       "_model_name": "HBoxModel",
       "_view_count": null,
       "_view_module": "@jupyter-widgets/controls",
       "_view_module_version": "1.5.0",
       "_view_name": "HBoxView",
       "box_style": "",
       "children": [
        "IPY_MODEL_d3f8f81ace2b4109b765795cedbe2ec3",
        "IPY_MODEL_f75bc3b9f1dd496bb96e5285c6e0c889",
        "IPY_MODEL_1bb32acb3d9641a38a3d3236eb0c26e4"
       ],
       "layout": "IPY_MODEL_81da16a7abed4cf29114e33cbc8a3579"
      }
     },
     "0b04d6a616eb490eae6d39e256ffe2a7": {
      "model_module": "@jupyter-widgets/controls",
      "model_module_version": "1.5.0",
      "model_name": "ProgressStyleModel",
      "state": {
       "_model_module": "@jupyter-widgets/controls",
       "_model_module_version": "1.5.0",
       "_model_name": "ProgressStyleModel",
       "_view_count": null,
       "_view_module": "@jupyter-widgets/base",
       "_view_module_version": "1.2.0",
       "_view_name": "StyleView",
       "bar_color": null,
       "description_width": ""
      }
     },
     "11d083d07a3a4ddc8124d0a5fdda021b": {
      "model_module": "@jupyter-widgets/base",
      "model_module_version": "1.2.0",
      "model_name": "LayoutModel",
      "state": {
       "_model_module": "@jupyter-widgets/base",
       "_model_module_version": "1.2.0",
       "_model_name": "LayoutModel",
       "_view_count": null,
       "_view_module": "@jupyter-widgets/base",
       "_view_module_version": "1.2.0",
       "_view_name": "LayoutView",
       "align_content": null,
       "align_items": null,
       "align_self": null,
       "border": null,
       "bottom": null,
       "display": null,
       "flex": null,
       "flex_flow": null,
       "grid_area": null,
       "grid_auto_columns": null,
       "grid_auto_flow": null,
       "grid_auto_rows": null,
       "grid_column": null,
       "grid_gap": null,
       "grid_row": null,
       "grid_template_areas": null,
       "grid_template_columns": null,
       "grid_template_rows": null,
       "height": null,
       "justify_content": null,
       "justify_items": null,
       "left": null,
       "margin": null,
       "max_height": null,
       "max_width": null,
       "min_height": null,
       "min_width": null,
       "object_fit": null,
       "object_position": null,
       "order": null,
       "overflow": null,
       "overflow_x": null,
       "overflow_y": null,
       "padding": null,
       "right": null,
       "top": null,
       "visibility": null,
       "width": null
      }
     },
     "16427cb871ff43bda7a8fe9d5eb04f68": {
      "model_module": "@jupyter-widgets/base",
      "model_module_version": "1.2.0",
      "model_name": "LayoutModel",
      "state": {
       "_model_module": "@jupyter-widgets/base",
       "_model_module_version": "1.2.0",
       "_model_name": "LayoutModel",
       "_view_count": null,
       "_view_module": "@jupyter-widgets/base",
       "_view_module_version": "1.2.0",
       "_view_name": "LayoutView",
       "align_content": null,
       "align_items": null,
       "align_self": null,
       "border": null,
       "bottom": null,
       "display": null,
       "flex": null,
       "flex_flow": null,
       "grid_area": null,
       "grid_auto_columns": null,
       "grid_auto_flow": null,
       "grid_auto_rows": null,
       "grid_column": null,
       "grid_gap": null,
       "grid_row": null,
       "grid_template_areas": null,
       "grid_template_columns": null,
       "grid_template_rows": null,
       "height": null,
       "justify_content": null,
       "justify_items": null,
       "left": null,
       "margin": null,
       "max_height": null,
       "max_width": null,
       "min_height": null,
       "min_width": null,
       "object_fit": null,
       "object_position": null,
       "order": null,
       "overflow": null,
       "overflow_x": null,
       "overflow_y": null,
       "padding": null,
       "right": null,
       "top": null,
       "visibility": null,
       "width": null
      }
     },
     "17a7bc0e2721421b8bbc669386baf385": {
      "model_module": "@jupyter-widgets/base",
      "model_module_version": "1.2.0",
      "model_name": "LayoutModel",
      "state": {
       "_model_module": "@jupyter-widgets/base",
       "_model_module_version": "1.2.0",
       "_model_name": "LayoutModel",
       "_view_count": null,
       "_view_module": "@jupyter-widgets/base",
       "_view_module_version": "1.2.0",
       "_view_name": "LayoutView",
       "align_content": null,
       "align_items": null,
       "align_self": null,
       "border": null,
       "bottom": null,
       "display": null,
       "flex": null,
       "flex_flow": null,
       "grid_area": null,
       "grid_auto_columns": null,
       "grid_auto_flow": null,
       "grid_auto_rows": null,
       "grid_column": null,
       "grid_gap": null,
       "grid_row": null,
       "grid_template_areas": null,
       "grid_template_columns": null,
       "grid_template_rows": null,
       "height": null,
       "justify_content": null,
       "justify_items": null,
       "left": null,
       "margin": null,
       "max_height": null,
       "max_width": null,
       "min_height": null,
       "min_width": null,
       "object_fit": null,
       "object_position": null,
       "order": null,
       "overflow": null,
       "overflow_x": null,
       "overflow_y": null,
       "padding": null,
       "right": null,
       "top": null,
       "visibility": null,
       "width": null
      }
     },
     "17db2e29a39443799c3b279b5ba97120": {
      "model_module": "@jupyter-widgets/controls",
      "model_module_version": "1.5.0",
      "model_name": "DescriptionStyleModel",
      "state": {
       "_model_module": "@jupyter-widgets/controls",
       "_model_module_version": "1.5.0",
       "_model_name": "DescriptionStyleModel",
       "_view_count": null,
       "_view_module": "@jupyter-widgets/base",
       "_view_module_version": "1.2.0",
       "_view_name": "StyleView",
       "description_width": ""
      }
     },
     "1bb32acb3d9641a38a3d3236eb0c26e4": {
      "model_module": "@jupyter-widgets/controls",
      "model_module_version": "1.5.0",
      "model_name": "HTMLModel",
      "state": {
       "_dom_classes": [],
       "_model_module": "@jupyter-widgets/controls",
       "_model_module_version": "1.5.0",
       "_model_name": "HTMLModel",
       "_view_count": null,
       "_view_module": "@jupyter-widgets/controls",
       "_view_module_version": "1.5.0",
       "_view_name": "HTMLView",
       "description": "",
       "description_tooltip": null,
       "layout": "IPY_MODEL_5ba06bdf12ae4cd6ab0367fa161c8ef8",
       "placeholder": "​",
       "style": "IPY_MODEL_cba7c09f65f347d8929979a5c1720feb",
       "value": " 226k/226k [00:00&lt;00:00, 4.24MB/s]"
      }
     },
     "1c25925baff54ef8a68b00c709a3226c": {
      "model_module": "@jupyter-widgets/base",
      "model_module_version": "1.2.0",
      "model_name": "LayoutModel",
      "state": {
       "_model_module": "@jupyter-widgets/base",
       "_model_module_version": "1.2.0",
       "_model_name": "LayoutModel",
       "_view_count": null,
       "_view_module": "@jupyter-widgets/base",
       "_view_module_version": "1.2.0",
       "_view_name": "LayoutView",
       "align_content": null,
       "align_items": null,
       "align_self": null,
       "border": null,
       "bottom": null,
       "display": null,
       "flex": null,
       "flex_flow": null,
       "grid_area": null,
       "grid_auto_columns": null,
       "grid_auto_flow": null,
       "grid_auto_rows": null,
       "grid_column": null,
       "grid_gap": null,
       "grid_row": null,
       "grid_template_areas": null,
       "grid_template_columns": null,
       "grid_template_rows": null,
       "height": null,
       "justify_content": null,
       "justify_items": null,
       "left": null,
       "margin": null,
       "max_height": null,
       "max_width": null,
       "min_height": null,
       "min_width": null,
       "object_fit": null,
       "object_position": null,
       "order": null,
       "overflow": null,
       "overflow_x": null,
       "overflow_y": null,
       "padding": null,
       "right": null,
       "top": null,
       "visibility": null,
       "width": null
      }
     },
     "24973b6d1be94e7b83be86fdea2ca0fa": {
      "model_module": "@jupyter-widgets/controls",
      "model_module_version": "1.5.0",
      "model_name": "FloatProgressModel",
      "state": {
       "_dom_classes": [],
       "_model_module": "@jupyter-widgets/controls",
       "_model_module_version": "1.5.0",
       "_model_name": "FloatProgressModel",
       "_view_count": null,
       "_view_module": "@jupyter-widgets/controls",
       "_view_module_version": "1.5.0",
       "_view_name": "ProgressView",
       "bar_style": "success",
       "description": "",
       "description_tooltip": null,
       "layout": "IPY_MODEL_9b40fd8ab52f4a10b2ff729d8b21ecfc",
       "max": 570.0,
       "min": 0.0,
       "orientation": "horizontal",
       "style": "IPY_MODEL_d02e3ac7af2a4351b799661d9bfc0c08",
       "value": 570.0
      }
     },
     "250d2b499354444a890d5cf16c2c6313": {
      "model_module": "@jupyter-widgets/controls",
      "model_module_version": "1.5.0",
      "model_name": "HTMLModel",
      "state": {
       "_dom_classes": [],
       "_model_module": "@jupyter-widgets/controls",
       "_model_module_version": "1.5.0",
       "_model_name": "HTMLModel",
       "_view_count": null,
       "_view_module": "@jupyter-widgets/controls",
       "_view_module_version": "1.5.0",
       "_view_name": "HTMLView",
       "description": "",
       "description_tooltip": null,
       "layout": "IPY_MODEL_7a997723da9742a8a462a69b7a70139d",
       "placeholder": "​",
       "style": "IPY_MODEL_297d62ffd97940da92007d3ceaca6ca0",
       "value": "Downloading: 100%"
      }
     },
     "297d62ffd97940da92007d3ceaca6ca0": {
      "model_module": "@jupyter-widgets/controls",
      "model_module_version": "1.5.0",
      "model_name": "DescriptionStyleModel",
      "state": {
       "_model_module": "@jupyter-widgets/controls",
       "_model_module_version": "1.5.0",
       "_model_name": "DescriptionStyleModel",
       "_view_count": null,
       "_view_module": "@jupyter-widgets/base",
       "_view_module_version": "1.2.0",
       "_view_name": "StyleView",
       "description_width": ""
      }
     },
     "2da1bae919e04a18ba63292d023d6655": {
      "model_module": "@jupyter-widgets/controls",
      "model_module_version": "1.5.0",
      "model_name": "ProgressStyleModel",
      "state": {
       "_model_module": "@jupyter-widgets/controls",
       "_model_module_version": "1.5.0",
       "_model_name": "ProgressStyleModel",
       "_view_count": null,
       "_view_module": "@jupyter-widgets/base",
       "_view_module_version": "1.2.0",
       "_view_name": "StyleView",
       "bar_color": null,
       "description_width": ""
      }
     },
     "3e5aec54dc6848f0a2f381a893831c73": {
      "model_module": "@jupyter-widgets/base",
      "model_module_version": "1.2.0",
      "model_name": "LayoutModel",
      "state": {
       "_model_module": "@jupyter-widgets/base",
       "_model_module_version": "1.2.0",
       "_model_name": "LayoutModel",
       "_view_count": null,
       "_view_module": "@jupyter-widgets/base",
       "_view_module_version": "1.2.0",
       "_view_name": "LayoutView",
       "align_content": null,
       "align_items": null,
       "align_self": null,
       "border": null,
       "bottom": null,
       "display": null,
       "flex": null,
       "flex_flow": null,
       "grid_area": null,
       "grid_auto_columns": null,
       "grid_auto_flow": null,
       "grid_auto_rows": null,
       "grid_column": null,
       "grid_gap": null,
       "grid_row": null,
       "grid_template_areas": null,
       "grid_template_columns": null,
       "grid_template_rows": null,
       "height": null,
       "justify_content": null,
       "justify_items": null,
       "left": null,
       "margin": null,
       "max_height": null,
       "max_width": null,
       "min_height": null,
       "min_width": null,
       "object_fit": null,
       "object_position": null,
       "order": null,
       "overflow": null,
       "overflow_x": null,
       "overflow_y": null,
       "padding": null,
       "right": null,
       "top": null,
       "visibility": null,
       "width": null
      }
     },
     "409d2efaa5b540cbbd5470807e71d92b": {
      "model_module": "@jupyter-widgets/base",
      "model_module_version": "1.2.0",
      "model_name": "LayoutModel",
      "state": {
       "_model_module": "@jupyter-widgets/base",
       "_model_module_version": "1.2.0",
       "_model_name": "LayoutModel",
       "_view_count": null,
       "_view_module": "@jupyter-widgets/base",
       "_view_module_version": "1.2.0",
       "_view_name": "LayoutView",
       "align_content": null,
       "align_items": null,
       "align_self": null,
       "border": null,
       "bottom": null,
       "display": null,
       "flex": null,
       "flex_flow": null,
       "grid_area": null,
       "grid_auto_columns": null,
       "grid_auto_flow": null,
       "grid_auto_rows": null,
       "grid_column": null,
       "grid_gap": null,
       "grid_row": null,
       "grid_template_areas": null,
       "grid_template_columns": null,
       "grid_template_rows": null,
       "height": null,
       "justify_content": null,
       "justify_items": null,
       "left": null,
       "margin": null,
       "max_height": null,
       "max_width": null,
       "min_height": null,
       "min_width": null,
       "object_fit": null,
       "object_position": null,
       "order": null,
       "overflow": null,
       "overflow_x": null,
       "overflow_y": null,
       "padding": null,
       "right": null,
       "top": null,
       "visibility": null,
       "width": null
      }
     },
     "40cfd631ff4e4de0b67916d629bc754e": {
      "model_module": "@jupyter-widgets/controls",
      "model_module_version": "1.5.0",
      "model_name": "FloatProgressModel",
      "state": {
       "_dom_classes": [],
       "_model_module": "@jupyter-widgets/controls",
       "_model_module_version": "1.5.0",
       "_model_name": "FloatProgressModel",
       "_view_count": null,
       "_view_module": "@jupyter-widgets/controls",
       "_view_module_version": "1.5.0",
       "_view_name": "ProgressView",
       "bar_style": "success",
       "description": "",
       "description_tooltip": null,
       "layout": "IPY_MODEL_9cbe42ae86c44c2b92f38d0a0e7b4f9c",
       "max": 536063208.0,
       "min": 0.0,
       "orientation": "horizontal",
       "style": "IPY_MODEL_2da1bae919e04a18ba63292d023d6655",
       "value": 536063208.0
      }
     },
     "42b2a83a8be54a57b77cce3fa8159853": {
      "model_module": "@jupyter-widgets/controls",
      "model_module_version": "1.5.0",
      "model_name": "DescriptionStyleModel",
      "state": {
       "_model_module": "@jupyter-widgets/controls",
       "_model_module_version": "1.5.0",
       "_model_name": "DescriptionStyleModel",
       "_view_count": null,
       "_view_module": "@jupyter-widgets/base",
       "_view_module_version": "1.2.0",
       "_view_name": "StyleView",
       "description_width": ""
      }
     },
     "42e556bba0574650880bef2304cec065": {
      "model_module": "@jupyter-widgets/base",
      "model_module_version": "1.2.0",
      "model_name": "LayoutModel",
      "state": {
       "_model_module": "@jupyter-widgets/base",
       "_model_module_version": "1.2.0",
       "_model_name": "LayoutModel",
       "_view_count": null,
       "_view_module": "@jupyter-widgets/base",
       "_view_module_version": "1.2.0",
       "_view_name": "LayoutView",
       "align_content": null,
       "align_items": null,
       "align_self": null,
       "border": null,
       "bottom": null,
       "display": null,
       "flex": null,
       "flex_flow": null,
       "grid_area": null,
       "grid_auto_columns": null,
       "grid_auto_flow": null,
       "grid_auto_rows": null,
       "grid_column": null,
       "grid_gap": null,
       "grid_row": null,
       "grid_template_areas": null,
       "grid_template_columns": null,
       "grid_template_rows": null,
       "height": null,
       "justify_content": null,
       "justify_items": null,
       "left": null,
       "margin": null,
       "max_height": null,
       "max_width": null,
       "min_height": null,
       "min_width": null,
       "object_fit": null,
       "object_position": null,
       "order": null,
       "overflow": null,
       "overflow_x": null,
       "overflow_y": null,
       "padding": null,
       "right": null,
       "top": null,
       "visibility": null,
       "width": null
      }
     },
     "4e1ab3a115a94fd5a9810a4816c0ff69": {
      "model_module": "@jupyter-widgets/controls",
      "model_module_version": "1.5.0",
      "model_name": "HTMLModel",
      "state": {
       "_dom_classes": [],
       "_model_module": "@jupyter-widgets/controls",
       "_model_module_version": "1.5.0",
       "_model_name": "HTMLModel",
       "_view_count": null,
       "_view_module": "@jupyter-widgets/controls",
       "_view_module_version": "1.5.0",
       "_view_name": "HTMLView",
       "description": "",
       "description_tooltip": null,
       "layout": "IPY_MODEL_409d2efaa5b540cbbd5470807e71d92b",
       "placeholder": "​",
       "style": "IPY_MODEL_7a5f3acf637b42fea1c5e54000698e81",
       "value": " 570/570 [00:00&lt;00:00, 21.1kB/s]"
      }
     },
     "5114511d28634c69a84924e9e84d4e63": {
      "model_module": "@jupyter-widgets/base",
      "model_module_version": "1.2.0",
      "model_name": "LayoutModel",
      "state": {
       "_model_module": "@jupyter-widgets/base",
       "_model_module_version": "1.2.0",
       "_model_name": "LayoutModel",
       "_view_count": null,
       "_view_module": "@jupyter-widgets/base",
       "_view_module_version": "1.2.0",
       "_view_name": "LayoutView",
       "align_content": null,
       "align_items": null,
       "align_self": null,
       "border": null,
       "bottom": null,
       "display": null,
       "flex": null,
       "flex_flow": null,
       "grid_area": null,
       "grid_auto_columns": null,
       "grid_auto_flow": null,
       "grid_auto_rows": null,
       "grid_column": null,
       "grid_gap": null,
       "grid_row": null,
       "grid_template_areas": null,
       "grid_template_columns": null,
       "grid_template_rows": null,
       "height": null,
       "justify_content": null,
       "justify_items": null,
       "left": null,
       "margin": null,
       "max_height": null,
       "max_width": null,
       "min_height": null,
       "min_width": null,
       "object_fit": null,
       "object_position": null,
       "order": null,
       "overflow": null,
       "overflow_x": null,
       "overflow_y": null,
       "padding": null,
       "right": null,
       "top": null,
       "visibility": null,
       "width": null
      }
     },
     "53671f2f9c364f3eaa7cf53bf384ec28": {
      "model_module": "@jupyter-widgets/controls",
      "model_module_version": "1.5.0",
      "model_name": "ProgressStyleModel",
      "state": {
       "_model_module": "@jupyter-widgets/controls",
       "_model_module_version": "1.5.0",
       "_model_name": "ProgressStyleModel",
       "_view_count": null,
       "_view_module": "@jupyter-widgets/base",
       "_view_module_version": "1.2.0",
       "_view_name": "StyleView",
       "bar_color": null,
       "description_width": ""
      }
     },
     "53f24b172635461e93a7b6a68b243f22": {
      "model_module": "@jupyter-widgets/base",
      "model_module_version": "1.2.0",
      "model_name": "LayoutModel",
      "state": {
       "_model_module": "@jupyter-widgets/base",
       "_model_module_version": "1.2.0",
       "_model_name": "LayoutModel",
       "_view_count": null,
       "_view_module": "@jupyter-widgets/base",
       "_view_module_version": "1.2.0",
       "_view_name": "LayoutView",
       "align_content": null,
       "align_items": null,
       "align_self": null,
       "border": null,
       "bottom": null,
       "display": null,
       "flex": null,
       "flex_flow": null,
       "grid_area": null,
       "grid_auto_columns": null,
       "grid_auto_flow": null,
       "grid_auto_rows": null,
       "grid_column": null,
       "grid_gap": null,
       "grid_row": null,
       "grid_template_areas": null,
       "grid_template_columns": null,
       "grid_template_rows": null,
       "height": null,
       "justify_content": null,
       "justify_items": null,
       "left": null,
       "margin": null,
       "max_height": null,
       "max_width": null,
       "min_height": null,
       "min_width": null,
       "object_fit": null,
       "object_position": null,
       "order": null,
       "overflow": null,
       "overflow_x": null,
       "overflow_y": null,
       "padding": null,
       "right": null,
       "top": null,
       "visibility": null,
       "width": null
      }
     },
     "5a9febca9d87400b8b565e0328b6e9a5": {
      "model_module": "@jupyter-widgets/base",
      "model_module_version": "1.2.0",
      "model_name": "LayoutModel",
      "state": {
       "_model_module": "@jupyter-widgets/base",
       "_model_module_version": "1.2.0",
       "_model_name": "LayoutModel",
       "_view_count": null,
       "_view_module": "@jupyter-widgets/base",
       "_view_module_version": "1.2.0",
       "_view_name": "LayoutView",
       "align_content": null,
       "align_items": null,
       "align_self": null,
       "border": null,
       "bottom": null,
       "display": null,
       "flex": null,
       "flex_flow": null,
       "grid_area": null,
       "grid_auto_columns": null,
       "grid_auto_flow": null,
       "grid_auto_rows": null,
       "grid_column": null,
       "grid_gap": null,
       "grid_row": null,
       "grid_template_areas": null,
       "grid_template_columns": null,
       "grid_template_rows": null,
       "height": null,
       "justify_content": null,
       "justify_items": null,
       "left": null,
       "margin": null,
       "max_height": null,
       "max_width": null,
       "min_height": null,
       "min_width": null,
       "object_fit": null,
       "object_position": null,
       "order": null,
       "overflow": null,
       "overflow_x": null,
       "overflow_y": null,
       "padding": null,
       "right": null,
       "top": null,
       "visibility": null,
       "width": null
      }
     },
     "5ba06bdf12ae4cd6ab0367fa161c8ef8": {
      "model_module": "@jupyter-widgets/base",
      "model_module_version": "1.2.0",
      "model_name": "LayoutModel",
      "state": {
       "_model_module": "@jupyter-widgets/base",
       "_model_module_version": "1.2.0",
       "_model_name": "LayoutModel",
       "_view_count": null,
       "_view_module": "@jupyter-widgets/base",
       "_view_module_version": "1.2.0",
       "_view_name": "LayoutView",
       "align_content": null,
       "align_items": null,
       "align_self": null,
       "border": null,
       "bottom": null,
       "display": null,
       "flex": null,
       "flex_flow": null,
       "grid_area": null,
       "grid_auto_columns": null,
       "grid_auto_flow": null,
       "grid_auto_rows": null,
       "grid_column": null,
       "grid_gap": null,
       "grid_row": null,
       "grid_template_areas": null,
       "grid_template_columns": null,
       "grid_template_rows": null,
       "height": null,
       "justify_content": null,
       "justify_items": null,
       "left": null,
       "margin": null,
       "max_height": null,
       "max_width": null,
       "min_height": null,
       "min_width": null,
       "object_fit": null,
       "object_position": null,
       "order": null,
       "overflow": null,
       "overflow_x": null,
       "overflow_y": null,
       "padding": null,
       "right": null,
       "top": null,
       "visibility": null,
       "width": null
      }
     },
     "6796423e2af5412c8864316b255dd750": {
      "model_module": "@jupyter-widgets/base",
      "model_module_version": "1.2.0",
      "model_name": "LayoutModel",
      "state": {
       "_model_module": "@jupyter-widgets/base",
       "_model_module_version": "1.2.0",
       "_model_name": "LayoutModel",
       "_view_count": null,
       "_view_module": "@jupyter-widgets/base",
       "_view_module_version": "1.2.0",
       "_view_name": "LayoutView",
       "align_content": null,
       "align_items": null,
       "align_self": null,
       "border": null,
       "bottom": null,
       "display": null,
       "flex": null,
       "flex_flow": null,
       "grid_area": null,
       "grid_auto_columns": null,
       "grid_auto_flow": null,
       "grid_auto_rows": null,
       "grid_column": null,
       "grid_gap": null,
       "grid_row": null,
       "grid_template_areas": null,
       "grid_template_columns": null,
       "grid_template_rows": null,
       "height": null,
       "justify_content": null,
       "justify_items": null,
       "left": null,
       "margin": null,
       "max_height": null,
       "max_width": null,
       "min_height": null,
       "min_width": null,
       "object_fit": null,
       "object_position": null,
       "order": null,
       "overflow": null,
       "overflow_x": null,
       "overflow_y": null,
       "padding": null,
       "right": null,
       "top": null,
       "visibility": null,
       "width": null
      }
     },
     "6e52f8149f3940a7bc8db1688dd7c236": {
      "model_module": "@jupyter-widgets/controls",
      "model_module_version": "1.5.0",
      "model_name": "HTMLModel",
      "state": {
       "_dom_classes": [],
       "_model_module": "@jupyter-widgets/controls",
       "_model_module_version": "1.5.0",
       "_model_name": "HTMLModel",
       "_view_count": null,
       "_view_module": "@jupyter-widgets/controls",
       "_view_module_version": "1.5.0",
       "_view_name": "HTMLView",
       "description": "",
       "description_tooltip": null,
       "layout": "IPY_MODEL_6796423e2af5412c8864316b255dd750",
       "placeholder": "​",
       "style": "IPY_MODEL_b32b7da60beb4ff9a9218b25933b8249",
       "value": "Downloading: 100%"
      }
     },
     "6f5cb2f92c2c4f4286d284e72d77d46e": {
      "model_module": "@jupyter-widgets/controls",
      "model_module_version": "1.5.0",
      "model_name": "HTMLModel",
      "state": {
       "_dom_classes": [],
       "_model_module": "@jupyter-widgets/controls",
       "_model_module_version": "1.5.0",
       "_model_name": "HTMLModel",
       "_view_count": null,
       "_view_module": "@jupyter-widgets/controls",
       "_view_module_version": "1.5.0",
       "_view_name": "HTMLView",
       "description": "",
       "description_tooltip": null,
       "layout": "IPY_MODEL_ced83e650b004a61b9a0822550a92506",
       "placeholder": "​",
       "style": "IPY_MODEL_17db2e29a39443799c3b279b5ba97120",
       "value": "Downloading: 100%"
      }
     },
     "7a5f3acf637b42fea1c5e54000698e81": {
      "model_module": "@jupyter-widgets/controls",
      "model_module_version": "1.5.0",
      "model_name": "DescriptionStyleModel",
      "state": {
       "_model_module": "@jupyter-widgets/controls",
       "_model_module_version": "1.5.0",
       "_model_name": "DescriptionStyleModel",
       "_view_count": null,
       "_view_module": "@jupyter-widgets/base",
       "_view_module_version": "1.2.0",
       "_view_name": "StyleView",
       "description_width": ""
      }
     },
     "7a997723da9742a8a462a69b7a70139d": {
      "model_module": "@jupyter-widgets/base",
      "model_module_version": "1.2.0",
      "model_name": "LayoutModel",
      "state": {
       "_model_module": "@jupyter-widgets/base",
       "_model_module_version": "1.2.0",
       "_model_name": "LayoutModel",
       "_view_count": null,
       "_view_module": "@jupyter-widgets/base",
       "_view_module_version": "1.2.0",
       "_view_name": "LayoutView",
       "align_content": null,
       "align_items": null,
       "align_self": null,
       "border": null,
       "bottom": null,
       "display": null,
       "flex": null,
       "flex_flow": null,
       "grid_area": null,
       "grid_auto_columns": null,
       "grid_auto_flow": null,
       "grid_auto_rows": null,
       "grid_column": null,
       "grid_gap": null,
       "grid_row": null,
       "grid_template_areas": null,
       "grid_template_columns": null,
       "grid_template_rows": null,
       "height": null,
       "justify_content": null,
       "justify_items": null,
       "left": null,
       "margin": null,
       "max_height": null,
       "max_width": null,
       "min_height": null,
       "min_width": null,
       "object_fit": null,
       "object_position": null,
       "order": null,
       "overflow": null,
       "overflow_x": null,
       "overflow_y": null,
       "padding": null,
       "right": null,
       "top": null,
       "visibility": null,
       "width": null
      }
     },
     "7f17ae09ea1b452a9bec669047eba1dc": {
      "model_module": "@jupyter-widgets/base",
      "model_module_version": "1.2.0",
      "model_name": "LayoutModel",
      "state": {
       "_model_module": "@jupyter-widgets/base",
       "_model_module_version": "1.2.0",
       "_model_name": "LayoutModel",
       "_view_count": null,
       "_view_module": "@jupyter-widgets/base",
       "_view_module_version": "1.2.0",
       "_view_name": "LayoutView",
       "align_content": null,
       "align_items": null,
       "align_self": null,
       "border": null,
       "bottom": null,
       "display": null,
       "flex": null,
       "flex_flow": null,
       "grid_area": null,
       "grid_auto_columns": null,
       "grid_auto_flow": null,
       "grid_auto_rows": null,
       "grid_column": null,
       "grid_gap": null,
       "grid_row": null,
       "grid_template_areas": null,
       "grid_template_columns": null,
       "grid_template_rows": null,
       "height": null,
       "justify_content": null,
       "justify_items": null,
       "left": null,
       "margin": null,
       "max_height": null,
       "max_width": null,
       "min_height": null,
       "min_width": null,
       "object_fit": null,
       "object_position": null,
       "order": null,
       "overflow": null,
       "overflow_x": null,
       "overflow_y": null,
       "padding": null,
       "right": null,
       "top": null,
       "visibility": null,
       "width": null
      }
     },
     "7fc2f97ded024a658d5035db99b92b9e": {
      "model_module": "@jupyter-widgets/controls",
      "model_module_version": "1.5.0",
      "model_name": "FloatProgressModel",
      "state": {
       "_dom_classes": [],
       "_model_module": "@jupyter-widgets/controls",
       "_model_module_version": "1.5.0",
       "_model_name": "FloatProgressModel",
       "_view_count": null,
       "_view_module": "@jupyter-widgets/controls",
       "_view_module_version": "1.5.0",
       "_view_name": "ProgressView",
       "bar_style": "success",
       "description": "",
       "description_tooltip": null,
       "layout": "IPY_MODEL_42e556bba0574650880bef2304cec065",
       "max": 466062.0,
       "min": 0.0,
       "orientation": "horizontal",
       "style": "IPY_MODEL_a88dcd60027e499ab5afb90648123f3d",
       "value": 466062.0
      }
     },
     "8196c2b39f4e41a3aaa6ba65bd26731b": {
      "model_module": "@jupyter-widgets/controls",
      "model_module_version": "1.5.0",
      "model_name": "HTMLModel",
      "state": {
       "_dom_classes": [],
       "_model_module": "@jupyter-widgets/controls",
       "_model_module_version": "1.5.0",
       "_model_name": "HTMLModel",
       "_view_count": null,
       "_view_module": "@jupyter-widgets/controls",
       "_view_module_version": "1.5.0",
       "_view_name": "HTMLView",
       "description": "",
       "description_tooltip": null,
       "layout": "IPY_MODEL_7f17ae09ea1b452a9bec669047eba1dc",
       "placeholder": "​",
       "style": "IPY_MODEL_cc31db5ba774422aa9055707b38b7064",
       "value": "Downloading: 100%"
      }
     },
     "81da16a7abed4cf29114e33cbc8a3579": {
      "model_module": "@jupyter-widgets/base",
      "model_module_version": "1.2.0",
      "model_name": "LayoutModel",
      "state": {
       "_model_module": "@jupyter-widgets/base",
       "_model_module_version": "1.2.0",
       "_model_name": "LayoutModel",
       "_view_count": null,
       "_view_module": "@jupyter-widgets/base",
       "_view_module_version": "1.2.0",
       "_view_name": "LayoutView",
       "align_content": null,
       "align_items": null,
       "align_self": null,
       "border": null,
       "bottom": null,
       "display": null,
       "flex": null,
       "flex_flow": null,
       "grid_area": null,
       "grid_auto_columns": null,
       "grid_auto_flow": null,
       "grid_auto_rows": null,
       "grid_column": null,
       "grid_gap": null,
       "grid_row": null,
       "grid_template_areas": null,
       "grid_template_columns": null,
       "grid_template_rows": null,
       "height": null,
       "justify_content": null,
       "justify_items": null,
       "left": null,
       "margin": null,
       "max_height": null,
       "max_width": null,
       "min_height": null,
       "min_width": null,
       "object_fit": null,
       "object_position": null,
       "order": null,
       "overflow": null,
       "overflow_x": null,
       "overflow_y": null,
       "padding": null,
       "right": null,
       "top": null,
       "visibility": null,
       "width": null
      }
     },
     "86b07aa019114fcd8f1dc8c0e1366799": {
      "model_module": "@jupyter-widgets/controls",
      "model_module_version": "1.5.0",
      "model_name": "FloatProgressModel",
      "state": {
       "_dom_classes": [],
       "_model_module": "@jupyter-widgets/controls",
       "_model_module_version": "1.5.0",
       "_model_name": "FloatProgressModel",
       "_view_count": null,
       "_view_module": "@jupyter-widgets/controls",
       "_view_module_version": "1.5.0",
       "_view_name": "ProgressView",
       "bar_style": "success",
       "description": "",
       "description_tooltip": null,
       "layout": "IPY_MODEL_5a9febca9d87400b8b565e0328b6e9a5",
       "max": 48.0,
       "min": 0.0,
       "orientation": "horizontal",
       "style": "IPY_MODEL_0b04d6a616eb490eae6d39e256ffe2a7",
       "value": 48.0
      }
     },
     "88609217d5c14a16adbcbed0b59aa792": {
      "model_module": "@jupyter-widgets/base",
      "model_module_version": "1.2.0",
      "model_name": "LayoutModel",
      "state": {
       "_model_module": "@jupyter-widgets/base",
       "_model_module_version": "1.2.0",
       "_model_name": "LayoutModel",
       "_view_count": null,
       "_view_module": "@jupyter-widgets/base",
       "_view_module_version": "1.2.0",
       "_view_name": "LayoutView",
       "align_content": null,
       "align_items": null,
       "align_self": null,
       "border": null,
       "bottom": null,
       "display": null,
       "flex": null,
       "flex_flow": null,
       "grid_area": null,
       "grid_auto_columns": null,
       "grid_auto_flow": null,
       "grid_auto_rows": null,
       "grid_column": null,
       "grid_gap": null,
       "grid_row": null,
       "grid_template_areas": null,
       "grid_template_columns": null,
       "grid_template_rows": null,
       "height": null,
       "justify_content": null,
       "justify_items": null,
       "left": null,
       "margin": null,
       "max_height": null,
       "max_width": null,
       "min_height": null,
       "min_width": null,
       "object_fit": null,
       "object_position": null,
       "order": null,
       "overflow": null,
       "overflow_x": null,
       "overflow_y": null,
       "padding": null,
       "right": null,
       "top": null,
       "visibility": null,
       "width": null
      }
     },
     "9b40fd8ab52f4a10b2ff729d8b21ecfc": {
      "model_module": "@jupyter-widgets/base",
      "model_module_version": "1.2.0",
      "model_name": "LayoutModel",
      "state": {
       "_model_module": "@jupyter-widgets/base",
       "_model_module_version": "1.2.0",
       "_model_name": "LayoutModel",
       "_view_count": null,
       "_view_module": "@jupyter-widgets/base",
       "_view_module_version": "1.2.0",
       "_view_name": "LayoutView",
       "align_content": null,
       "align_items": null,
       "align_self": null,
       "border": null,
       "bottom": null,
       "display": null,
       "flex": null,
       "flex_flow": null,
       "grid_area": null,
       "grid_auto_columns": null,
       "grid_auto_flow": null,
       "grid_auto_rows": null,
       "grid_column": null,
       "grid_gap": null,
       "grid_row": null,
       "grid_template_areas": null,
       "grid_template_columns": null,
       "grid_template_rows": null,
       "height": null,
       "justify_content": null,
       "justify_items": null,
       "left": null,
       "margin": null,
       "max_height": null,
       "max_width": null,
       "min_height": null,
       "min_width": null,
       "object_fit": null,
       "object_position": null,
       "order": null,
       "overflow": null,
       "overflow_x": null,
       "overflow_y": null,
       "padding": null,
       "right": null,
       "top": null,
       "visibility": null,
       "width": null
      }
     },
     "9cbe42ae86c44c2b92f38d0a0e7b4f9c": {
      "model_module": "@jupyter-widgets/base",
      "model_module_version": "1.2.0",
      "model_name": "LayoutModel",
      "state": {
       "_model_module": "@jupyter-widgets/base",
       "_model_module_version": "1.2.0",
       "_model_name": "LayoutModel",
       "_view_count": null,
       "_view_module": "@jupyter-widgets/base",
       "_view_module_version": "1.2.0",
       "_view_name": "LayoutView",
       "align_content": null,
       "align_items": null,
       "align_self": null,
       "border": null,
       "bottom": null,
       "display": null,
       "flex": null,
       "flex_flow": null,
       "grid_area": null,
       "grid_auto_columns": null,
       "grid_auto_flow": null,
       "grid_auto_rows": null,
       "grid_column": null,
       "grid_gap": null,
       "grid_row": null,
       "grid_template_areas": null,
       "grid_template_columns": null,
       "grid_template_rows": null,
       "height": null,
       "justify_content": null,
       "justify_items": null,
       "left": null,
       "margin": null,
       "max_height": null,
       "max_width": null,
       "min_height": null,
       "min_width": null,
       "object_fit": null,
       "object_position": null,
       "order": null,
       "overflow": null,
       "overflow_x": null,
       "overflow_y": null,
       "padding": null,
       "right": null,
       "top": null,
       "visibility": null,
       "width": null
      }
     },
     "a59fa0e2e3ad4e36b40488cc4fb870d3": {
      "model_module": "@jupyter-widgets/controls",
      "model_module_version": "1.5.0",
      "model_name": "HBoxModel",
      "state": {
       "_dom_classes": [],
       "_model_module": "@jupyter-widgets/controls",
       "_model_module_version": "1.5.0",
       "_model_name": "HBoxModel",
       "_view_count": null,
       "_view_module": "@jupyter-widgets/controls",
       "_view_module_version": "1.5.0",
       "_view_name": "HBoxView",
       "box_style": "",
       "children": [
        "IPY_MODEL_6f5cb2f92c2c4f4286d284e72d77d46e",
        "IPY_MODEL_24973b6d1be94e7b83be86fdea2ca0fa",
        "IPY_MODEL_4e1ab3a115a94fd5a9810a4816c0ff69"
       ],
       "layout": "IPY_MODEL_88609217d5c14a16adbcbed0b59aa792"
      }
     },
     "a88dcd60027e499ab5afb90648123f3d": {
      "model_module": "@jupyter-widgets/controls",
      "model_module_version": "1.5.0",
      "model_name": "ProgressStyleModel",
      "state": {
       "_model_module": "@jupyter-widgets/controls",
       "_model_module_version": "1.5.0",
       "_model_name": "ProgressStyleModel",
       "_view_count": null,
       "_view_module": "@jupyter-widgets/base",
       "_view_module_version": "1.2.0",
       "_view_name": "StyleView",
       "bar_color": null,
       "description_width": ""
      }
     },
     "b32b7da60beb4ff9a9218b25933b8249": {
      "model_module": "@jupyter-widgets/controls",
      "model_module_version": "1.5.0",
      "model_name": "DescriptionStyleModel",
      "state": {
       "_model_module": "@jupyter-widgets/controls",
       "_model_module_version": "1.5.0",
       "_model_name": "DescriptionStyleModel",
       "_view_count": null,
       "_view_module": "@jupyter-widgets/base",
       "_view_module_version": "1.2.0",
       "_view_name": "StyleView",
       "description_width": ""
      }
     },
     "b575f9ca65404a26951ef607e86dd3e8": {
      "model_module": "@jupyter-widgets/controls",
      "model_module_version": "1.5.0",
      "model_name": "HTMLModel",
      "state": {
       "_dom_classes": [],
       "_model_module": "@jupyter-widgets/controls",
       "_model_module_version": "1.5.0",
       "_model_name": "HTMLModel",
       "_view_count": null,
       "_view_module": "@jupyter-widgets/controls",
       "_view_module_version": "1.5.0",
       "_view_name": "HTMLView",
       "description": "",
       "description_tooltip": null,
       "layout": "IPY_MODEL_17a7bc0e2721421b8bbc669386baf385",
       "placeholder": "​",
       "style": "IPY_MODEL_d601e545f6f54b89a9f110ec9f24caed",
       "value": " 511M/511M [00:12&lt;00:00, 45.5MB/s]"
      }
     },
     "bb1c492da05e4239b303cbc71d21cd49": {
      "model_module": "@jupyter-widgets/controls",
      "model_module_version": "1.5.0",
      "model_name": "HTMLModel",
      "state": {
       "_dom_classes": [],
       "_model_module": "@jupyter-widgets/controls",
       "_model_module_version": "1.5.0",
       "_model_name": "HTMLModel",
       "_view_count": null,
       "_view_module": "@jupyter-widgets/controls",
       "_view_module_version": "1.5.0",
       "_view_name": "HTMLView",
       "description": "",
       "description_tooltip": null,
       "layout": "IPY_MODEL_16427cb871ff43bda7a8fe9d5eb04f68",
       "placeholder": "​",
       "style": "IPY_MODEL_42b2a83a8be54a57b77cce3fa8159853",
       "value": " 48.0/48.0 [00:00&lt;00:00, 1.74kB/s]"
      }
     },
     "bd121be297de4fee87d5c173d9c23b2c": {
      "model_module": "@jupyter-widgets/controls",
      "model_module_version": "1.5.0",
      "model_name": "HBoxModel",
      "state": {
       "_dom_classes": [],
       "_model_module": "@jupyter-widgets/controls",
       "_model_module_version": "1.5.0",
       "_model_name": "HBoxModel",
       "_view_count": null,
       "_view_module": "@jupyter-widgets/controls",
       "_view_module_version": "1.5.0",
       "_view_name": "HBoxView",
       "box_style": "",
       "children": [
        "IPY_MODEL_8196c2b39f4e41a3aaa6ba65bd26731b",
        "IPY_MODEL_7fc2f97ded024a658d5035db99b92b9e",
        "IPY_MODEL_001ad921aa8e4bcfa91120d67c493375"
       ],
       "layout": "IPY_MODEL_53f24b172635461e93a7b6a68b243f22"
      }
     },
     "c62d2098963d42f5b904df789fa2d85e": {
      "model_module": "@jupyter-widgets/controls",
      "model_module_version": "1.5.0",
      "model_name": "DescriptionStyleModel",
      "state": {
       "_model_module": "@jupyter-widgets/controls",
       "_model_module_version": "1.5.0",
       "_model_name": "DescriptionStyleModel",
       "_view_count": null,
       "_view_module": "@jupyter-widgets/base",
       "_view_module_version": "1.2.0",
       "_view_name": "StyleView",
       "description_width": ""
      }
     },
     "ca99d5cc3ee84f65a28d3adac903d303": {
      "model_module": "@jupyter-widgets/controls",
      "model_module_version": "1.5.0",
      "model_name": "DescriptionStyleModel",
      "state": {
       "_model_module": "@jupyter-widgets/controls",
       "_model_module_version": "1.5.0",
       "_model_name": "DescriptionStyleModel",
       "_view_count": null,
       "_view_module": "@jupyter-widgets/base",
       "_view_module_version": "1.2.0",
       "_view_name": "StyleView",
       "description_width": ""
      }
     },
     "cba7c09f65f347d8929979a5c1720feb": {
      "model_module": "@jupyter-widgets/controls",
      "model_module_version": "1.5.0",
      "model_name": "DescriptionStyleModel",
      "state": {
       "_model_module": "@jupyter-widgets/controls",
       "_model_module_version": "1.5.0",
       "_model_name": "DescriptionStyleModel",
       "_view_count": null,
       "_view_module": "@jupyter-widgets/base",
       "_view_module_version": "1.2.0",
       "_view_name": "StyleView",
       "description_width": ""
      }
     },
     "cc31db5ba774422aa9055707b38b7064": {
      "model_module": "@jupyter-widgets/controls",
      "model_module_version": "1.5.0",
      "model_name": "DescriptionStyleModel",
      "state": {
       "_model_module": "@jupyter-widgets/controls",
       "_model_module_version": "1.5.0",
       "_model_name": "DescriptionStyleModel",
       "_view_count": null,
       "_view_module": "@jupyter-widgets/base",
       "_view_module_version": "1.2.0",
       "_view_name": "StyleView",
       "description_width": ""
      }
     },
     "ced83e650b004a61b9a0822550a92506": {
      "model_module": "@jupyter-widgets/base",
      "model_module_version": "1.2.0",
      "model_name": "LayoutModel",
      "state": {
       "_model_module": "@jupyter-widgets/base",
       "_model_module_version": "1.2.0",
       "_model_name": "LayoutModel",
       "_view_count": null,
       "_view_module": "@jupyter-widgets/base",
       "_view_module_version": "1.2.0",
       "_view_name": "LayoutView",
       "align_content": null,
       "align_items": null,
       "align_self": null,
       "border": null,
       "bottom": null,
       "display": null,
       "flex": null,
       "flex_flow": null,
       "grid_area": null,
       "grid_auto_columns": null,
       "grid_auto_flow": null,
       "grid_auto_rows": null,
       "grid_column": null,
       "grid_gap": null,
       "grid_row": null,
       "grid_template_areas": null,
       "grid_template_columns": null,
       "grid_template_rows": null,
       "height": null,
       "justify_content": null,
       "justify_items": null,
       "left": null,
       "margin": null,
       "max_height": null,
       "max_width": null,
       "min_height": null,
       "min_width": null,
       "object_fit": null,
       "object_position": null,
       "order": null,
       "overflow": null,
       "overflow_x": null,
       "overflow_y": null,
       "padding": null,
       "right": null,
       "top": null,
       "visibility": null,
       "width": null
      }
     },
     "d02e3ac7af2a4351b799661d9bfc0c08": {
      "model_module": "@jupyter-widgets/controls",
      "model_module_version": "1.5.0",
      "model_name": "ProgressStyleModel",
      "state": {
       "_model_module": "@jupyter-widgets/controls",
       "_model_module_version": "1.5.0",
       "_model_name": "ProgressStyleModel",
       "_view_count": null,
       "_view_module": "@jupyter-widgets/base",
       "_view_module_version": "1.2.0",
       "_view_name": "StyleView",
       "bar_color": null,
       "description_width": ""
      }
     },
     "d3f8f81ace2b4109b765795cedbe2ec3": {
      "model_module": "@jupyter-widgets/controls",
      "model_module_version": "1.5.0",
      "model_name": "HTMLModel",
      "state": {
       "_dom_classes": [],
       "_model_module": "@jupyter-widgets/controls",
       "_model_module_version": "1.5.0",
       "_model_name": "HTMLModel",
       "_view_count": null,
       "_view_module": "@jupyter-widgets/controls",
       "_view_module_version": "1.5.0",
       "_view_name": "HTMLView",
       "description": "",
       "description_tooltip": null,
       "layout": "IPY_MODEL_1c25925baff54ef8a68b00c709a3226c",
       "placeholder": "​",
       "style": "IPY_MODEL_ca99d5cc3ee84f65a28d3adac903d303",
       "value": "Downloading: 100%"
      }
     },
     "d601e545f6f54b89a9f110ec9f24caed": {
      "model_module": "@jupyter-widgets/controls",
      "model_module_version": "1.5.0",
      "model_name": "DescriptionStyleModel",
      "state": {
       "_model_module": "@jupyter-widgets/controls",
       "_model_module_version": "1.5.0",
       "_model_name": "DescriptionStyleModel",
       "_view_count": null,
       "_view_module": "@jupyter-widgets/base",
       "_view_module_version": "1.2.0",
       "_view_name": "StyleView",
       "description_width": ""
      }
     },
     "dcae4ff06ff74a1dbe99132e35eb82a5": {
      "model_module": "@jupyter-widgets/controls",
      "model_module_version": "1.5.0",
      "model_name": "HBoxModel",
      "state": {
       "_dom_classes": [],
       "_model_module": "@jupyter-widgets/controls",
       "_model_module_version": "1.5.0",
       "_model_name": "HBoxModel",
       "_view_count": null,
       "_view_module": "@jupyter-widgets/controls",
       "_view_module_version": "1.5.0",
       "_view_name": "HBoxView",
       "box_style": "",
       "children": [
        "IPY_MODEL_6e52f8149f3940a7bc8db1688dd7c236",
        "IPY_MODEL_86b07aa019114fcd8f1dc8c0e1366799",
        "IPY_MODEL_bb1c492da05e4239b303cbc71d21cd49"
       ],
       "layout": "IPY_MODEL_3e5aec54dc6848f0a2f381a893831c73"
      }
     },
     "f75bc3b9f1dd496bb96e5285c6e0c889": {
      "model_module": "@jupyter-widgets/controls",
      "model_module_version": "1.5.0",
      "model_name": "FloatProgressModel",
      "state": {
       "_dom_classes": [],
       "_model_module": "@jupyter-widgets/controls",
       "_model_module_version": "1.5.0",
       "_model_name": "FloatProgressModel",
       "_view_count": null,
       "_view_module": "@jupyter-widgets/controls",
       "_view_module_version": "1.5.0",
       "_view_name": "ProgressView",
       "bar_style": "success",
       "description": "",
       "description_tooltip": null,
       "layout": "IPY_MODEL_5114511d28634c69a84924e9e84d4e63",
       "max": 231508.0,
       "min": 0.0,
       "orientation": "horizontal",
       "style": "IPY_MODEL_53671f2f9c364f3eaa7cf53bf384ec28",
       "value": 231508.0
      }
     }
    },
    "version_major": 2,
    "version_minor": 0
   }
  }
 },
 "nbformat": 4,
 "nbformat_minor": 5
}
